{
  "nbformat": 4,
  "nbformat_minor": 0,
  "metadata": {
    "colab": {
      "name": "AirbnbPrediction.ipynb",
      "provenance": [],
      "collapsed_sections": [],
      "toc_visible": true,
      "machine_shape": "hm",
      "authorship_tag": "ABX9TyN9A9LLRBNU5rBuvZrx5clA",
      "include_colab_link": true
    },
    "kernelspec": {
      "name": "python3",
      "display_name": "Python 3"
    }
  },
  "cells": [
    {
      "cell_type": "markdown",
      "metadata": {
        "id": "view-in-github",
        "colab_type": "text"
      },
      "source": [
        "<a href=\"https://colab.research.google.com/github/Merna177/airbnbPrediction/blob/master/AirbnbPrediction.ipynb\" target=\"_parent\"><img src=\"https://colab.research.google.com/assets/colab-badge.svg\" alt=\"Open In Colab\"/></a>"
      ]
    },
    {
      "cell_type": "code",
      "metadata": {
        "id": "Ahs8RWUzDf5Z",
        "colab_type": "code",
        "outputId": "7ab5e323-73e5-4717-869c-6234c1397590",
        "colab": {
          "base_uri": "https://localhost:8080/",
          "height": 122
        }
      },
      "source": [
        "from google.colab import drive \n",
        "drive.mount('/content/drive')"
      ],
      "execution_count": 1,
      "outputs": [
        {
          "output_type": "stream",
          "text": [
            "Go to this URL in a browser: https://accounts.google.com/o/oauth2/auth?client_id=947318989803-6bn6qk8qdgf4n4g3pfee6491hc0brc4i.apps.googleusercontent.com&redirect_uri=urn%3aietf%3awg%3aoauth%3a2.0%3aoob&response_type=code&scope=email%20https%3a%2f%2fwww.googleapis.com%2fauth%2fdocs.test%20https%3a%2f%2fwww.googleapis.com%2fauth%2fdrive%20https%3a%2f%2fwww.googleapis.com%2fauth%2fdrive.photos.readonly%20https%3a%2f%2fwww.googleapis.com%2fauth%2fpeopleapi.readonly\n",
            "\n",
            "Enter your authorization code:\n",
            "··········\n",
            "Mounted at /content/drive\n"
          ],
          "name": "stdout"
        }
      ]
    },
    {
      "cell_type": "code",
      "metadata": {
        "id": "_LUwQCQZY4Hy",
        "colab_type": "code",
        "outputId": "c60d154f-7111-497a-e62e-908d90a8d4ba",
        "colab": {
          "base_uri": "https://localhost:8080/",
          "height": 34
        }
      },
      "source": [
        "#reading data from drive\n",
        "!ls \"/content/drive/My Drive/DatasetAirbnb/\"\n",
        "data = \"/content/drive/My Drive/DatasetAirbnb/\""
      ],
      "execution_count": 2,
      "outputs": [
        {
          "output_type": "stream",
          "text": [
            "sessions.csv  test_users.csv  train_users_2.csv\n"
          ],
          "name": "stdout"
        }
      ]
    },
    {
      "cell_type": "code",
      "metadata": {
        "id": "hI8lTSJbZUCM",
        "colab_type": "code",
        "outputId": "d00c0140-ef86-4a83-e7f0-95097e23516f",
        "colab": {
          "base_uri": "https://localhost:8080/",
          "height": 88
        }
      },
      "source": [
        "import matplotlib.pyplot as plt\n",
        "import numpy as np\n",
        "import os\n",
        "import keras\n",
        "import pandas as pd\n",
        "import csv\n",
        "from tqdm import trange\n",
        "import seaborn as sns\n",
        "import warnings\n",
        "warnings.filterwarnings(\"ignore\")"
      ],
      "execution_count": 3,
      "outputs": [
        {
          "output_type": "stream",
          "text": [
            "Using TensorFlow backend.\n",
            "/usr/local/lib/python3.6/dist-packages/statsmodels/tools/_testing.py:19: FutureWarning: pandas.util.testing is deprecated. Use the functions in the public API at pandas.testing instead.\n",
            "  import pandas.util.testing as tm\n"
          ],
          "name": "stderr"
        }
      ]
    },
    {
      "cell_type": "code",
      "metadata": {
        "id": "ytZgaqTjZb5I",
        "colab_type": "code",
        "outputId": "a1fb23d1-e4e8-4e6a-dd34-b96f2c3f888b",
        "colab": {
          "base_uri": "https://localhost:8080/",
          "height": 34
        }
      },
      "source": [
        "#Reading Data\n",
        "trainUsers = pd.read_csv(data+ \"train_users_2.csv\")\n",
        "testUsers = pd.read_csv(data +\"test_users.csv\")\n",
        "print(trainUsers.shape[0], \"users in the training Dataset &\", testUsers.shape[0], \"users in the test Dataset.\") \n"
      ],
      "execution_count": 4,
      "outputs": [
        {
          "output_type": "stream",
          "text": [
            "213451 users in the training Dataset & 62096 users in the test Dataset.\n"
          ],
          "name": "stdout"
        }
      ]
    },
    {
      "cell_type": "code",
      "metadata": {
        "id": "5355oKYNHl1J",
        "colab_type": "code",
        "outputId": "e9ec541f-bd4a-4a7b-fb01-81973c08491e",
        "colab": {
          "base_uri": "https://localhost:8080/",
          "height": 258
        }
      },
      "source": [
        "trainUsers.head()\n"
      ],
      "execution_count": 5,
      "outputs": [
        {
          "output_type": "execute_result",
          "data": {
            "text/html": [
              "<div>\n",
              "<style scoped>\n",
              "    .dataframe tbody tr th:only-of-type {\n",
              "        vertical-align: middle;\n",
              "    }\n",
              "\n",
              "    .dataframe tbody tr th {\n",
              "        vertical-align: top;\n",
              "    }\n",
              "\n",
              "    .dataframe thead th {\n",
              "        text-align: right;\n",
              "    }\n",
              "</style>\n",
              "<table border=\"1\" class=\"dataframe\">\n",
              "  <thead>\n",
              "    <tr style=\"text-align: right;\">\n",
              "      <th></th>\n",
              "      <th>id</th>\n",
              "      <th>date_account_created</th>\n",
              "      <th>timestamp_first_active</th>\n",
              "      <th>date_first_booking</th>\n",
              "      <th>gender</th>\n",
              "      <th>age</th>\n",
              "      <th>signup_method</th>\n",
              "      <th>signup_flow</th>\n",
              "      <th>language</th>\n",
              "      <th>affiliate_channel</th>\n",
              "      <th>affiliate_provider</th>\n",
              "      <th>first_affiliate_tracked</th>\n",
              "      <th>signup_app</th>\n",
              "      <th>first_device_type</th>\n",
              "      <th>first_browser</th>\n",
              "      <th>country_destination</th>\n",
              "    </tr>\n",
              "  </thead>\n",
              "  <tbody>\n",
              "    <tr>\n",
              "      <th>0</th>\n",
              "      <td>gxn3p5htnn</td>\n",
              "      <td>2010-06-28</td>\n",
              "      <td>20090319043255</td>\n",
              "      <td>NaN</td>\n",
              "      <td>-unknown-</td>\n",
              "      <td>NaN</td>\n",
              "      <td>facebook</td>\n",
              "      <td>0</td>\n",
              "      <td>en</td>\n",
              "      <td>direct</td>\n",
              "      <td>direct</td>\n",
              "      <td>untracked</td>\n",
              "      <td>Web</td>\n",
              "      <td>Mac Desktop</td>\n",
              "      <td>Chrome</td>\n",
              "      <td>NDF</td>\n",
              "    </tr>\n",
              "    <tr>\n",
              "      <th>1</th>\n",
              "      <td>820tgsjxq7</td>\n",
              "      <td>2011-05-25</td>\n",
              "      <td>20090523174809</td>\n",
              "      <td>NaN</td>\n",
              "      <td>MALE</td>\n",
              "      <td>38.0</td>\n",
              "      <td>facebook</td>\n",
              "      <td>0</td>\n",
              "      <td>en</td>\n",
              "      <td>seo</td>\n",
              "      <td>google</td>\n",
              "      <td>untracked</td>\n",
              "      <td>Web</td>\n",
              "      <td>Mac Desktop</td>\n",
              "      <td>Chrome</td>\n",
              "      <td>NDF</td>\n",
              "    </tr>\n",
              "    <tr>\n",
              "      <th>2</th>\n",
              "      <td>4ft3gnwmtx</td>\n",
              "      <td>2010-09-28</td>\n",
              "      <td>20090609231247</td>\n",
              "      <td>2010-08-02</td>\n",
              "      <td>FEMALE</td>\n",
              "      <td>56.0</td>\n",
              "      <td>basic</td>\n",
              "      <td>3</td>\n",
              "      <td>en</td>\n",
              "      <td>direct</td>\n",
              "      <td>direct</td>\n",
              "      <td>untracked</td>\n",
              "      <td>Web</td>\n",
              "      <td>Windows Desktop</td>\n",
              "      <td>IE</td>\n",
              "      <td>US</td>\n",
              "    </tr>\n",
              "    <tr>\n",
              "      <th>3</th>\n",
              "      <td>bjjt8pjhuk</td>\n",
              "      <td>2011-12-05</td>\n",
              "      <td>20091031060129</td>\n",
              "      <td>2012-09-08</td>\n",
              "      <td>FEMALE</td>\n",
              "      <td>42.0</td>\n",
              "      <td>facebook</td>\n",
              "      <td>0</td>\n",
              "      <td>en</td>\n",
              "      <td>direct</td>\n",
              "      <td>direct</td>\n",
              "      <td>untracked</td>\n",
              "      <td>Web</td>\n",
              "      <td>Mac Desktop</td>\n",
              "      <td>Firefox</td>\n",
              "      <td>other</td>\n",
              "    </tr>\n",
              "    <tr>\n",
              "      <th>4</th>\n",
              "      <td>87mebub9p4</td>\n",
              "      <td>2010-09-14</td>\n",
              "      <td>20091208061105</td>\n",
              "      <td>2010-02-18</td>\n",
              "      <td>-unknown-</td>\n",
              "      <td>41.0</td>\n",
              "      <td>basic</td>\n",
              "      <td>0</td>\n",
              "      <td>en</td>\n",
              "      <td>direct</td>\n",
              "      <td>direct</td>\n",
              "      <td>untracked</td>\n",
              "      <td>Web</td>\n",
              "      <td>Mac Desktop</td>\n",
              "      <td>Chrome</td>\n",
              "      <td>US</td>\n",
              "    </tr>\n",
              "  </tbody>\n",
              "</table>\n",
              "</div>"
            ],
            "text/plain": [
              "           id date_account_created  ...  first_browser country_destination\n",
              "0  gxn3p5htnn           2010-06-28  ...         Chrome                 NDF\n",
              "1  820tgsjxq7           2011-05-25  ...         Chrome                 NDF\n",
              "2  4ft3gnwmtx           2010-09-28  ...             IE                  US\n",
              "3  bjjt8pjhuk           2011-12-05  ...        Firefox               other\n",
              "4  87mebub9p4           2010-09-14  ...         Chrome                  US\n",
              "\n",
              "[5 rows x 16 columns]"
            ]
          },
          "metadata": {
            "tags": []
          },
          "execution_count": 5
        }
      ]
    },
    {
      "cell_type": "code",
      "metadata": {
        "id": "vm9ES7s1D2r7",
        "colab_type": "code",
        "colab": {}
      },
      "source": [
        "session = pd.read_csv(data +\"sessions.csv\")\n"
      ],
      "execution_count": 0,
      "outputs": []
    },
    {
      "cell_type": "code",
      "metadata": {
        "id": "LIISS65UD9l-",
        "colab_type": "code",
        "outputId": "0c3469d4-f3cf-459a-ac89-ca7b99898a8e",
        "colab": {
          "base_uri": "https://localhost:8080/",
          "height": 204
        }
      },
      "source": [
        "session.head()"
      ],
      "execution_count": 7,
      "outputs": [
        {
          "output_type": "execute_result",
          "data": {
            "text/html": [
              "<div>\n",
              "<style scoped>\n",
              "    .dataframe tbody tr th:only-of-type {\n",
              "        vertical-align: middle;\n",
              "    }\n",
              "\n",
              "    .dataframe tbody tr th {\n",
              "        vertical-align: top;\n",
              "    }\n",
              "\n",
              "    .dataframe thead th {\n",
              "        text-align: right;\n",
              "    }\n",
              "</style>\n",
              "<table border=\"1\" class=\"dataframe\">\n",
              "  <thead>\n",
              "    <tr style=\"text-align: right;\">\n",
              "      <th></th>\n",
              "      <th>user_id</th>\n",
              "      <th>action</th>\n",
              "      <th>action_type</th>\n",
              "      <th>action_detail</th>\n",
              "      <th>device_type</th>\n",
              "      <th>secs_elapsed</th>\n",
              "    </tr>\n",
              "  </thead>\n",
              "  <tbody>\n",
              "    <tr>\n",
              "      <th>0</th>\n",
              "      <td>d1mm9tcy42</td>\n",
              "      <td>lookup</td>\n",
              "      <td>NaN</td>\n",
              "      <td>NaN</td>\n",
              "      <td>Windows Desktop</td>\n",
              "      <td>319.0</td>\n",
              "    </tr>\n",
              "    <tr>\n",
              "      <th>1</th>\n",
              "      <td>d1mm9tcy42</td>\n",
              "      <td>search_results</td>\n",
              "      <td>click</td>\n",
              "      <td>view_search_results</td>\n",
              "      <td>Windows Desktop</td>\n",
              "      <td>67753.0</td>\n",
              "    </tr>\n",
              "    <tr>\n",
              "      <th>2</th>\n",
              "      <td>d1mm9tcy42</td>\n",
              "      <td>lookup</td>\n",
              "      <td>NaN</td>\n",
              "      <td>NaN</td>\n",
              "      <td>Windows Desktop</td>\n",
              "      <td>301.0</td>\n",
              "    </tr>\n",
              "    <tr>\n",
              "      <th>3</th>\n",
              "      <td>d1mm9tcy42</td>\n",
              "      <td>search_results</td>\n",
              "      <td>click</td>\n",
              "      <td>view_search_results</td>\n",
              "      <td>Windows Desktop</td>\n",
              "      <td>22141.0</td>\n",
              "    </tr>\n",
              "    <tr>\n",
              "      <th>4</th>\n",
              "      <td>d1mm9tcy42</td>\n",
              "      <td>lookup</td>\n",
              "      <td>NaN</td>\n",
              "      <td>NaN</td>\n",
              "      <td>Windows Desktop</td>\n",
              "      <td>435.0</td>\n",
              "    </tr>\n",
              "  </tbody>\n",
              "</table>\n",
              "</div>"
            ],
            "text/plain": [
              "      user_id          action  ...      device_type secs_elapsed\n",
              "0  d1mm9tcy42          lookup  ...  Windows Desktop        319.0\n",
              "1  d1mm9tcy42  search_results  ...  Windows Desktop      67753.0\n",
              "2  d1mm9tcy42          lookup  ...  Windows Desktop        301.0\n",
              "3  d1mm9tcy42  search_results  ...  Windows Desktop      22141.0\n",
              "4  d1mm9tcy42          lookup  ...  Windows Desktop        435.0\n",
              "\n",
              "[5 rows x 6 columns]"
            ]
          },
          "metadata": {
            "tags": []
          },
          "execution_count": 7
        }
      ]
    },
    {
      "cell_type": "markdown",
      "metadata": {
        "id": "EjxDSdYUfzjy",
        "colab_type": "text"
      },
      "source": [
        "#**Pre** **processing**"
      ]
    },
    {
      "cell_type": "code",
      "metadata": {
        "id": "G6wdsqGKfmzG",
        "colab_type": "code",
        "colab": {}
      },
      "source": [
        "total = pd.concat((trainUsers, testUsers), axis = 0, ignore_index = True, sort = True)"
      ],
      "execution_count": 0,
      "outputs": []
    },
    {
      "cell_type": "markdown",
      "metadata": {
        "id": "zL0KFp8JQNPy",
        "colab_type": "text"
      },
      "source": [
        "Check if there any missing data"
      ]
    },
    {
      "cell_type": "code",
      "metadata": {
        "id": "Q7_uBg4EQPKm",
        "colab_type": "code",
        "outputId": "28e99129-4589-4f77-d6de-76fb5e736867",
        "colab": {
          "base_uri": "https://localhost:8080/",
          "height": 34
        }
      },
      "source": [
        "trainUsers.isnull().values.any()\n"
      ],
      "execution_count": 9,
      "outputs": [
        {
          "output_type": "execute_result",
          "data": {
            "text/plain": [
              "True"
            ]
          },
          "metadata": {
            "tags": []
          },
          "execution_count": 9
        }
      ]
    },
    {
      "cell_type": "markdown",
      "metadata": {
        "id": "8c-7ekT2gYsh",
        "colab_type": "text"
      },
      "source": [
        "Check the Null values\n"
      ]
    },
    {
      "cell_type": "code",
      "metadata": {
        "id": "e5IcKt6Si0ZP",
        "colab_type": "code",
        "outputId": "27ae10f3-be43-4c1b-ab0a-b92b720a6aad",
        "colab": {
          "base_uri": "https://localhost:8080/",
          "height": 306
        }
      },
      "source": [
        "#Check Null Values in Total Dataset\n",
        "print(total.isnull().sum())"
      ],
      "execution_count": 11,
      "outputs": [
        {
          "output_type": "stream",
          "text": [
            "affiliate_channel               0\n",
            "affiliate_provider              0\n",
            "age                        116866\n",
            "country_destination         62096\n",
            "date_account_created            0\n",
            "date_first_booking         186639\n",
            "first_affiliate_tracked      6085\n",
            "first_browser                   0\n",
            "first_device_type               0\n",
            "gender                          0\n",
            "id                              0\n",
            "language                        0\n",
            "signup_app                      0\n",
            "signup_flow                     0\n",
            "signup_method                   0\n",
            "timestamp_first_active          0\n",
            "dtype: int64\n"
          ],
          "name": "stdout"
        }
      ]
    },
    {
      "cell_type": "code",
      "metadata": {
        "id": "XZB3kDR1gXhA",
        "colab_type": "code",
        "outputId": "bbc43fbe-acca-495c-a4bf-899a5263e1d1",
        "colab": {
          "base_uri": "https://localhost:8080/",
          "height": 306
        }
      },
      "source": [
        "print(trainUsers.isnull().sum())"
      ],
      "execution_count": 10,
      "outputs": [
        {
          "output_type": "stream",
          "text": [
            "id                              0\n",
            "date_account_created            0\n",
            "timestamp_first_active          0\n",
            "date_first_booking         124543\n",
            "gender                          0\n",
            "age                         87990\n",
            "signup_method                   0\n",
            "signup_flow                     0\n",
            "language                        0\n",
            "affiliate_channel               0\n",
            "affiliate_provider              0\n",
            "first_affiliate_tracked      6065\n",
            "signup_app                      0\n",
            "first_device_type               0\n",
            "first_browser                   0\n",
            "country_destination             0\n",
            "dtype: int64\n"
          ],
          "name": "stdout"
        }
      ]
    },
    {
      "cell_type": "code",
      "metadata": {
        "id": "Ru4TkxcfgSWm",
        "colab_type": "code",
        "outputId": "e78a6afe-43a4-44c0-a2e3-d7ffe766b4e5",
        "colab": {
          "base_uri": "https://localhost:8080/",
          "height": 289
        }
      },
      "source": [
        "print(testUsers.isnull().sum())"
      ],
      "execution_count": 12,
      "outputs": [
        {
          "output_type": "stream",
          "text": [
            "id                             0\n",
            "date_account_created           0\n",
            "timestamp_first_active         0\n",
            "date_first_booking         62096\n",
            "gender                         0\n",
            "age                        28876\n",
            "signup_method                  0\n",
            "signup_flow                    0\n",
            "language                       0\n",
            "affiliate_channel              0\n",
            "affiliate_provider             0\n",
            "first_affiliate_tracked       20\n",
            "signup_app                     0\n",
            "first_device_type              0\n",
            "first_browser                  0\n",
            "dtype: int64\n"
          ],
          "name": "stdout"
        }
      ]
    },
    {
      "cell_type": "code",
      "metadata": {
        "id": "DoZXPtqzicKX",
        "colab_type": "code",
        "colab": {}
      },
      "source": [
        "trainUsers.drop(\"date_first_booking\", axis = 1, inplace=True)\n",
        "testUsers.drop(\"date_first_booking\", axis = 1, inplace=True)\n",
        "total.drop(\"date_first_booking\", axis = 1, inplace=True)\n"
      ],
      "execution_count": 0,
      "outputs": []
    },
    {
      "cell_type": "code",
      "metadata": {
        "id": "fB1fLa3AzjmQ",
        "colab_type": "code",
        "outputId": "b3e8f549-0b3d-4d57-b18b-4b1d0113ba0c",
        "colab": {
          "base_uri": "https://localhost:8080/",
          "height": 34
        }
      },
      "source": [
        "# i tried this for each feature to detect which features have Unkown Values\n",
        "total.signup_method.unique()"
      ],
      "execution_count": 14,
      "outputs": [
        {
          "output_type": "execute_result",
          "data": {
            "text/plain": [
              "array(['facebook', 'basic', 'google', 'weibo'], dtype=object)"
            ]
          },
          "metadata": {
            "tags": []
          },
          "execution_count": 14
        }
      ]
    },
    {
      "cell_type": "code",
      "metadata": {
        "id": "nAw8zCF9lug3",
        "colab_type": "code",
        "colab": {}
      },
      "source": [
        "# replace unkown values with NAN\n",
        "total.gender.replace(\"-unknown-\", np.nan, inplace=True)\n",
        "total.first_browser.replace(\"-unknown-\", np.nan, inplace=True)\n",
        "trainUsers.gender.replace(\"-unknown-\", np.nan, inplace=True)\n",
        "trainUsers.first_browser.replace(\"-unknown-\", np.nan, inplace=True)\n",
        "testUsers.gender.replace(\"-unknown-\", np.nan, inplace=True)\n",
        "testUsers.first_browser.replace(\"-unknown-\", np.nan, inplace=True)\n",
        "total.language.replace(\"-unknown-\", np.nan, inplace=True)\n",
        "trainUsers.language.replace(\"-unknown-\", np.nan, inplace=True)\n",
        "testUsers.language.replace(\"-unknown-\", np.nan, inplace=True)\n",
        "total.first_affiliate_tracked.replace(\"untracked\", np.nan, inplace=True)\n",
        "trainUsers.first_affiliate_tracked.replace(\"untracked\", np.nan, inplace=True)\n",
        "testUsers.first_affiliate_tracked.replace(\"untracked\", np.nan, inplace=True)\n"
      ],
      "execution_count": 0,
      "outputs": []
    },
    {
      "cell_type": "code",
      "metadata": {
        "id": "QV8yd3SIzfhc",
        "colab_type": "code",
        "colab": {}
      },
      "source": [
        "total.age.describe()\n",
        "#Some users introduced a year instead of their age, translate this year into their age\n",
        "wrong = total['age'] > 1000\n",
        "total.loc[wrong, 'age'] = 2015 - total.loc[wrong, 'age']\n",
        "wrongtr = trainUsers['age'] > 1000\n",
        "trainUsers.loc[wrongtr, 'age'] = 2015 - trainUsers.loc[wrongtr, 'age']\n",
        "wrongtest = testUsers['age'] > 1000\n",
        "testUsers.loc[wrongtest, 'age'] = 2015 - testUsers.loc[wrongtest, 'age']"
      ],
      "execution_count": 0,
      "outputs": []
    },
    {
      "cell_type": "markdown",
      "metadata": {
        "id": "sWpjkd3iYiMZ",
        "colab_type": "text"
      },
      "source": [
        "add some limit to the age"
      ]
    },
    {
      "cell_type": "code",
      "metadata": {
        "id": "2lP6Egp2XH5O",
        "colab_type": "code",
        "colab": {}
      },
      "source": [
        "total.loc[total.age > 100, 'age'] = np.nan\n",
        "total.loc[total.age < 18, 'age'] = np.nan\n",
        "trainUsers.loc[trainUsers.age > 100, 'age'] = np.nan\n",
        "trainUsers.loc[trainUsers.age < 18, 'age'] = np.nan\n",
        "testUsers.loc[testUsers.age > 100, 'age'] = np.nan\n",
        "testUsers.loc[testUsers.age < 18, 'age'] = np.nan"
      ],
      "execution_count": 0,
      "outputs": []
    },
    {
      "cell_type": "markdown",
      "metadata": {
        "id": "a8iSbQDWW60t",
        "colab_type": "text"
      },
      "source": [
        "represent age distribution"
      ]
    },
    {
      "cell_type": "code",
      "metadata": {
        "id": "iG-iow3bW9Ha",
        "colab_type": "code",
        "outputId": "2383098e-2890-4a9b-a66e-badcb361e950",
        "colab": {
          "base_uri": "https://localhost:8080/",
          "height": 267
        }
      },
      "source": [
        "hist = total['age'].hist(bins=100)\n"
      ],
      "execution_count": 18,
      "outputs": [
        {
          "output_type": "display_data",
          "data": {
            "image/png": "[encoded data removed]",
            "text/plain": [
              "<Figure size 432x288 with 1 Axes>"
            ]
          },
          "metadata": {
            "tags": [],
            "needs_background": "light"
          }
        }
      ]
    },
    {
      "cell_type": "code",
      "metadata": {
        "id": "XTHDWSUOYlRR",
        "colab_type": "code",
        "outputId": "04da4738-218d-466f-80c6-ce705cf3f4e5",
        "colab": {
          "base_uri": "https://localhost:8080/",
          "height": 499
        }
      },
      "source": [
        "\n",
        "total.loc[total['gender'] == 'FEMALE', 'country_destination'].value_counts().plot(kind='bar', label='Female', position=0, figsize=(16,8), width = 0.4, color='#999999')\n",
        "total.loc[total['gender'] == 'MALE', 'country_destination'].value_counts().plot(kind='bar', label='Male', position=1, figsize=(16,8), width = 0.4, color='#FFFF00')\n",
        "total.loc[total['gender'] == 'OTHER', 'country_destination'].value_counts().plot(kind='bar', label='other', position=2, figsize=(16,8), width = 0.4, color='#F45656')\n",
        "\n",
        "plt.legend()\n",
        "plt.show()"
      ],
      "execution_count": 19,
      "outputs": [
        {
          "output_type": "display_data",
          "data": {
            "image/png": "[encoded data removed]",
            "text/plain": [
              "<Figure size 1152x576 with 1 Axes>"
            ]
          },
          "metadata": {
            "tags": [],
            "needs_background": "light"
          }
        }
      ]
    },
    {
      "cell_type": "code",
      "metadata": {
        "id": "P_nw7WExQ1Ck",
        "colab_type": "code",
        "outputId": "147af6f8-3704-4bbf-e799-cb6234f8bf7f",
        "colab": {
          "base_uri": "https://localhost:8080/",
          "height": 238
        }
      },
      "source": [
        "##to know the count of each country as Destination\n",
        "trainUsers['country_destination'].value_counts()\n"
      ],
      "execution_count": 20,
      "outputs": [
        {
          "output_type": "execute_result",
          "data": {
            "text/plain": [
              "NDF      124543\n",
              "US        62376\n",
              "other     10094\n",
              "FR         5023\n",
              "IT         2835\n",
              "GB         2324\n",
              "ES         2249\n",
              "CA         1428\n",
              "DE         1061\n",
              "NL          762\n",
              "AU          539\n",
              "PT          217\n",
              "Name: country_destination, dtype: int64"
            ]
          },
          "metadata": {
            "tags": []
          },
          "execution_count": 20
        }
      ]
    },
    {
      "cell_type": "code",
      "metadata": {
        "id": "vgDYIe8h-X64",
        "colab_type": "code",
        "outputId": "db878d04-4282-4eba-ce35-29693c06ac17",
        "colab": {
          "base_uri": "https://localhost:8080/",
          "height": 442
        }
      },
      "source": [
        "#plot for country Destination\n",
        "plt.figure(figsize=(7,7))\n",
        "sns.countplot(x='country_destination', data=trainUsers)\n",
        "plt.xlabel('Destination Country')\n",
        "plt.ylabel('Number of users')\n",
        "plt.show()"
      ],
      "execution_count": 21,
      "outputs": [
        {
          "output_type": "display_data",
          "data": {
            "image/png": "[encoded data removed]",
            "text/plain": [
              "<Figure size 504x504 with 1 Axes>"
            ]
          },
          "metadata": {
            "tags": [],
            "needs_background": "light"
          }
        }
      ]
    },
    {
      "cell_type": "markdown",
      "metadata": {
        "id": "tFksvYIkA0hq",
        "colab_type": "text"
      },
      "source": [
        "Note: around 120K from 213451 endup without pick a destination "
      ]
    },
    {
      "cell_type": "code",
      "metadata": {
        "id": "vikxcpd7RLXm",
        "colab_type": "code",
        "outputId": "145463b0-8ba9-44cb-f455-217b78684bc6",
        "colab": {
          "base_uri": "https://localhost:8080/",
          "height": 34
        }
      },
      "source": [
        "trainUsers['country_destination'].value_counts()['NDF']/trainUsers['country_destination'].shape[0]\n",
        "#this mean that more than half of the users endup without a destination"
      ],
      "execution_count": 22,
      "outputs": [
        {
          "output_type": "execute_result",
          "data": {
            "text/plain": [
              "0.5834734904029496"
            ]
          },
          "metadata": {
            "tags": []
          },
          "execution_count": 22
        }
      ]
    },
    {
      "cell_type": "code",
      "metadata": {
        "id": "gtbCTkrzUW1a",
        "colab_type": "code",
        "outputId": "88b98c13-f611-48e6-e767-d43d71181568",
        "colab": {
          "base_uri": "https://localhost:8080/",
          "height": 85
        }
      },
      "source": [
        "trainUsers['gender'].value_counts()\n"
      ],
      "execution_count": 23,
      "outputs": [
        {
          "output_type": "execute_result",
          "data": {
            "text/plain": [
              "FEMALE    63041\n",
              "MALE      54440\n",
              "OTHER       282\n",
              "Name: gender, dtype: int64"
            ]
          },
          "metadata": {
            "tags": []
          },
          "execution_count": 23
        }
      ]
    },
    {
      "cell_type": "markdown",
      "metadata": {
        "id": "CoxuR8iBBMDv",
        "colab_type": "text"
      },
      "source": [
        "So let check who endup with a destination."
      ]
    },
    {
      "cell_type": "code",
      "metadata": {
        "id": "it_4ryL3-Is-",
        "colab_type": "code",
        "outputId": "2faac208-47d5-45a5-b14a-bf5bb631617a",
        "colab": {
          "base_uri": "https://localhost:8080/",
          "height": 389
        }
      },
      "source": [
        "# Destination vs signupMethods\n",
        "plt.figure(figsize=(12,6))\n",
        "sns.countplot(x='country_destination', data = total, hue = 'signup_method')\n",
        "plt.legend()\n",
        "plt.show()"
      ],
      "execution_count": 24,
      "outputs": [
        {
          "output_type": "display_data",
          "data": {
            "image/png": "[encoded data removed]",
            "text/plain": [
              "<Figure size 864x432 with 1 Axes>"
            ]
          },
          "metadata": {
            "tags": [],
            "needs_background": "light"
          }
        }
      ]
    },
    {
      "cell_type": "code",
      "metadata": {
        "id": "djJmcj8xdK15",
        "colab_type": "code",
        "outputId": "8bf0dab7-35bf-4048-e685-37eca54723ce",
        "colab": {
          "base_uri": "https://localhost:8080/",
          "height": 389
        }
      },
      "source": [
        "#Destination vs signup app\n",
        "plt.figure(figsize=(12,6))\n",
        "sns.countplot(x='country_destination', data=total,hue = 'signup_app')\n",
        "plt.legend()\n",
        "plt.show()"
      ],
      "execution_count": 25,
      "outputs": [
        {
          "output_type": "display_data",
          "data": {
            "image/png": "[encoded data removed]",
            "text/plain": [
              "<Figure size 864x432 with 1 Axes>"
            ]
          },
          "metadata": {
            "tags": [],
            "needs_background": "light"
          }
        }
      ]
    },
    {
      "cell_type": "code",
      "metadata": {
        "id": "Pzzc6QFNivXB",
        "colab_type": "code",
        "outputId": "f2cf8561-918d-4cb8-de16-307299d89b25",
        "colab": {
          "base_uri": "https://localhost:8080/",
          "height": 389
        }
      },
      "source": [
        "#Destination vs first device type\n",
        "plt.figure(figsize=(12,6))\n",
        "sns.countplot(x='country_destination', data=total,hue = 'first_device_type')\n",
        "plt.legend()\n",
        "plt.show()"
      ],
      "execution_count": 26,
      "outputs": [
        {
          "output_type": "display_data",
          "data": {
            "image/png": "[encoded data removed]",
            "text/plain": [
              "<Figure size 864x432 with 1 Axes>"
            ]
          },
          "metadata": {
            "tags": [],
            "needs_background": "light"
          }
        }
      ]
    },
    {
      "cell_type": "code",
      "metadata": {
        "id": "PLrqTc2MjCfh",
        "colab_type": "code",
        "outputId": "f64d8615-ff95-451f-8868-b2d5a353a31a",
        "colab": {
          "base_uri": "https://localhost:8080/",
          "height": 389
        }
      },
      "source": [
        "\n",
        "#Destination vs affiliate_channel\n",
        "plt.figure(figsize=(12,6))\n",
        "sns.countplot(x='country_destination', data=total,hue = 'affiliate_channel')\n",
        "plt.legend()\n",
        "plt.show()\n",
        "#most of people visit airbnb direct"
      ],
      "execution_count": 27,
      "outputs": [
        {
          "output_type": "display_data",
          "data": {
            "image/png": "[encoded data removed]",
            "text/plain": [
              "<Figure size 864x432 with 1 Axes>"
            ]
          },
          "metadata": {
            "tags": [],
            "needs_background": "light"
          }
        }
      ]
    },
    {
      "cell_type": "code",
      "metadata": {
        "id": "lb7MFVh-jcg5",
        "colab_type": "code",
        "colab": {}
      },
      "source": [
        ""
      ],
      "execution_count": 0,
      "outputs": []
    },
    {
      "cell_type": "code",
      "metadata": {
        "id": "304DkqrU_F2k",
        "colab_type": "code",
        "colab": {}
      },
      "source": [
        "total['date_account_created'] = pd.to_datetime(total['date_account_created'])\n",
        "total['timestamp_first_active'] = pd.to_datetime((total.timestamp_first_active // 1000000), format='%Y%m%d')"
      ],
      "execution_count": 0,
      "outputs": []
    },
    {
      "cell_type": "code",
      "metadata": {
        "id": "DX0Ba2e7_O-n",
        "colab_type": "code",
        "colab": {}
      },
      "source": [
        "trainUsers['date_account_created'] = pd.to_datetime(trainUsers['date_account_created'])\n",
        "trainUsers['timestamp_first_active'] = pd.to_datetime((trainUsers.timestamp_first_active // 1000000), format='%Y%m%d')\n",
        "testUsers['date_account_created'] = pd.to_datetime(testUsers['date_account_created'])\n",
        "testUsers['timestamp_first_active'] = pd.to_datetime((testUsers.timestamp_first_active // 1000000), format='%Y%m%d')"
      ],
      "execution_count": 0,
      "outputs": []
    },
    {
      "cell_type": "code",
      "metadata": {
        "id": "EYyfBshK_Zyf",
        "colab_type": "code",
        "colab": {}
      },
      "source": [
        "total['weekday_account_created'] = total['date_account_created'].dt.day_name()"
      ],
      "execution_count": 0,
      "outputs": []
    },
    {
      "cell_type": "code",
      "metadata": {
        "id": "qNXhXAuxBxB-",
        "colab_type": "code",
        "colab": {}
      },
      "source": [
        "total['day_account_created'] = total.date_account_created.dt.day\n",
        "total['month_account_created'] = total.date_account_created.dt.month\n",
        "total['year_account_created'] = total.date_account_created.dt.year"
      ],
      "execution_count": 0,
      "outputs": []
    },
    {
      "cell_type": "code",
      "metadata": {
        "id": "v93Mb1B5B6gs",
        "colab_type": "code",
        "colab": {}
      },
      "source": [
        "\n",
        "total['weekday_first_active'] = total.timestamp_first_active.dt.day_name()\n",
        "total['day_first_active'] = total.timestamp_first_active.dt.day\n",
        "total['month_first_active'] = total.timestamp_first_active.dt.month\n",
        "total['year_first_active'] = total.timestamp_first_active.dt.year"
      ],
      "execution_count": 0,
      "outputs": []
    },
    {
      "cell_type": "markdown",
      "metadata": {
        "id": "QfmEW5epCTPF",
        "colab_type": "text"
      },
      "source": [
        "Calculate time lag"
      ]
    },
    {
      "cell_type": "code",
      "metadata": {
        "id": "i1RC25COCQNy",
        "colab_type": "code",
        "colab": {}
      },
      "source": [
        "total['time_lag'] = (total['date_account_created'] - total['timestamp_first_active'])\n",
        "total.drop( ['date_account_created', 'timestamp_first_active'], axis=1, inplace=True)"
      ],
      "execution_count": 0,
      "outputs": []
    },
    {
      "cell_type": "markdown",
      "metadata": {
        "id": "dev2qiuKFiHa",
        "colab_type": "text"
      },
      "source": [
        "Fill NAN "
      ]
    },
    {
      "cell_type": "code",
      "metadata": {
        "id": "Qz2us6QRFhIB",
        "colab_type": "code",
        "colab": {}
      },
      "source": [
        "total['age'].fillna(-1, inplace=True)\n",
        "total['gender'].fillna('none', inplace=True)\n",
        "total['language'].fillna('none', inplace=True)\n",
        "total['first_browser'].fillna('none', inplace=True)\n",
        "total['first_affiliate_tracked'].fillna('none', inplace=True)\n"
      ],
      "execution_count": 0,
      "outputs": []
    },
    {
      "cell_type": "markdown",
      "metadata": {
        "id": "B3kNLk25GPGn",
        "colab_type": "text"
      },
      "source": [
        "#Session Data"
      ]
    },
    {
      "cell_type": "code",
      "metadata": {
        "id": "N5IyKKkCGOVk",
        "colab_type": "code",
        "outputId": "e18d6c1e-7654-43f2-d130-ed49a1dfaad9",
        "colab": {
          "base_uri": "https://localhost:8080/",
          "height": 136
        }
      },
      "source": [
        "print(session.isnull().sum())"
      ],
      "execution_count": 35,
      "outputs": [
        {
          "output_type": "stream",
          "text": [
            "user_id            34496\n",
            "action             79626\n",
            "action_type      1126204\n",
            "action_detail    1126204\n",
            "device_type            0\n",
            "secs_elapsed      136031\n",
            "dtype: int64\n"
          ],
          "name": "stdout"
        }
      ]
    },
    {
      "cell_type": "code",
      "metadata": {
        "id": "ISqt1DStGESP",
        "colab_type": "code",
        "colab": {}
      },
      "source": [
        "sessionTrain = pd.merge(total, session, how = 'left', left_on = 'id', right_on = 'user_id')"
      ],
      "execution_count": 0,
      "outputs": []
    },
    {
      "cell_type": "code",
      "metadata": {
        "id": "t8pOXstIHdoL",
        "colab_type": "code",
        "colab": {}
      },
      "source": [
        "for col in ['action','action_type','action_detail']:\n",
        "        session[col] = session[col].fillna('none')\n",
        "session.loc[:, 'secs_elapsed'].fillna(0, inplace=True)"
      ],
      "execution_count": 0,
      "outputs": []
    },
    {
      "cell_type": "code",
      "metadata": {
        "id": "ttYEp1bTIt0Z",
        "colab_type": "code",
        "colab": {}
      },
      "source": [
        "#ename the column user_id as just id to match the train\n",
        "session.rename(columns = {'user_id': 'id'}, inplace=True)"
      ],
      "execution_count": 0,
      "outputs": []
    },
    {
      "cell_type": "code",
      "metadata": {
        "id": "FkyZXirDiuUH",
        "colab_type": "code",
        "colab": {}
      },
      "source": [
        "#replace rare action with other value\n",
        "mn = 100\n",
        "action_counts = session['action'].value_counts()\n",
        "rare_actions = action_counts[action_counts < mn].index.tolist()\n",
        "session.loc[session['action'].isin(rare_actions), 'action'] = 'other'    \n",
        "action_detail_counts = session['action_detail'].value_counts()\n",
        "rare_action_details = action_detail_counts[action_detail_counts < mn].index.tolist()\n",
        "session.loc[session['action_detail'].isin(rare_action_details), 'action_detail'] = 'other'"
      ],
      "execution_count": 0,
      "outputs": []
    },
    {
      "cell_type": "code",
      "metadata": {
        "id": "OB9RW87HnqGk",
        "colab_type": "code",
        "colab": {}
      },
      "source": [
        "mostUsedDevice= session.groupby('id')['device_type'].max()\n",
        "mostUsedDevice = mostUsedDevice.to_frame()\n",
        "mostUsedDevice = mostUsedDevice.rename(columns={'device_type': 'most_used_device'})"
      ],
      "execution_count": 0,
      "outputs": []
    },
    {
      "cell_type": "code",
      "metadata": {
        "id": "Oty415yTGzUZ",
        "colab_type": "code",
        "colab": {}
      },
      "source": [
        "time= session.groupby('id')['secs_elapsed'].sum()\n",
        "time = time.to_frame()\n",
        "time = time.rename(columns={'secs_elapsed': 'sumTime'})"
      ],
      "execution_count": 0,
      "outputs": []
    },
    {
      "cell_type": "code",
      "metadata": {
        "id": "Y-tO2juCKsCb",
        "colab_type": "code",
        "colab": {}
      },
      "source": [
        "sessionData = pd.merge(time, mostUsedDevice, how = 'inner', left_on = 'id', right_on = 'id')\n"
      ],
      "execution_count": 0,
      "outputs": []
    },
    {
      "cell_type": "code",
      "metadata": {
        "id": "UVFNE9YgM2jE",
        "colab_type": "code",
        "colab": {
          "base_uri": "https://localhost:8080/",
          "height": 68
        },
        "outputId": "619ae8b0-090a-4f58-f3bd-19bbfb76dc09"
      },
      "source": [
        ""
      ],
      "execution_count": 144,
      "outputs": [
        {
          "output_type": "execute_result",
          "data": {
            "text/plain": [
              "sumTime        135483\n",
              "device_type    135483\n",
              "dtype: int64"
            ]
          },
          "metadata": {
            "tags": []
          },
          "execution_count": 144
        }
      ]
    },
    {
      "cell_type": "code",
      "metadata": {
        "id": "A7e3oTogeV9d",
        "colab_type": "code",
        "colab": {
          "base_uri": "https://localhost:8080/",
          "height": 689
        },
        "outputId": "26a25d1e-d257-4e47-e8f8-c1575848a270"
      },
      "source": [
        "DataSet = pd.merge(total, sessionData, how = 'left', left_on = 'id', right_on = 'id')\n",
        "DataSet.tail(20)"
      ],
      "execution_count": 43,
      "outputs": [
        {
          "output_type": "execute_result",
          "data": {
            "text/html": [
              "<div>\n",
              "<style scoped>\n",
              "    .dataframe tbody tr th:only-of-type {\n",
              "        vertical-align: middle;\n",
              "    }\n",
              "\n",
              "    .dataframe tbody tr th {\n",
              "        vertical-align: top;\n",
              "    }\n",
              "\n",
              "    .dataframe thead th {\n",
              "        text-align: right;\n",
              "    }\n",
              "</style>\n",
              "<table border=\"1\" class=\"dataframe\">\n",
              "  <thead>\n",
              "    <tr style=\"text-align: right;\">\n",
              "      <th></th>\n",
              "      <th>affiliate_channel</th>\n",
              "      <th>affiliate_provider</th>\n",
              "      <th>age</th>\n",
              "      <th>country_destination</th>\n",
              "      <th>first_affiliate_tracked</th>\n",
              "      <th>first_browser</th>\n",
              "      <th>first_device_type</th>\n",
              "      <th>gender</th>\n",
              "      <th>id</th>\n",
              "      <th>language</th>\n",
              "      <th>signup_app</th>\n",
              "      <th>signup_flow</th>\n",
              "      <th>signup_method</th>\n",
              "      <th>weekday_account_created</th>\n",
              "      <th>day_account_created</th>\n",
              "      <th>month_account_created</th>\n",
              "      <th>year_account_created</th>\n",
              "      <th>weekday_first_active</th>\n",
              "      <th>day_first_active</th>\n",
              "      <th>month_first_active</th>\n",
              "      <th>year_first_active</th>\n",
              "      <th>time_lag</th>\n",
              "      <th>sumTime</th>\n",
              "      <th>most_used_device</th>\n",
              "    </tr>\n",
              "  </thead>\n",
              "  <tbody>\n",
              "    <tr>\n",
              "      <th>275527</th>\n",
              "      <td>seo</td>\n",
              "      <td>facebook</td>\n",
              "      <td>39.0</td>\n",
              "      <td>NaN</td>\n",
              "      <td>none</td>\n",
              "      <td>Mobile Safari</td>\n",
              "      <td>iPhone</td>\n",
              "      <td>MALE</td>\n",
              "      <td>1xa5t3t0la</td>\n",
              "      <td>en</td>\n",
              "      <td>Web</td>\n",
              "      <td>0</td>\n",
              "      <td>facebook</td>\n",
              "      <td>Tuesday</td>\n",
              "      <td>30</td>\n",
              "      <td>9</td>\n",
              "      <td>2014</td>\n",
              "      <td>Tuesday</td>\n",
              "      <td>30</td>\n",
              "      <td>9</td>\n",
              "      <td>2014</td>\n",
              "      <td>0 days</td>\n",
              "      <td>277706.0</td>\n",
              "      <td>iPhone</td>\n",
              "    </tr>\n",
              "    <tr>\n",
              "      <th>275528</th>\n",
              "      <td>seo</td>\n",
              "      <td>google</td>\n",
              "      <td>-1.0</td>\n",
              "      <td>NaN</td>\n",
              "      <td>none</td>\n",
              "      <td>Firefox</td>\n",
              "      <td>Mac Desktop</td>\n",
              "      <td>none</td>\n",
              "      <td>zuvz7gfpjz</td>\n",
              "      <td>en</td>\n",
              "      <td>Web</td>\n",
              "      <td>0</td>\n",
              "      <td>basic</td>\n",
              "      <td>Tuesday</td>\n",
              "      <td>30</td>\n",
              "      <td>9</td>\n",
              "      <td>2014</td>\n",
              "      <td>Tuesday</td>\n",
              "      <td>30</td>\n",
              "      <td>9</td>\n",
              "      <td>2014</td>\n",
              "      <td>0 days</td>\n",
              "      <td>938847.0</td>\n",
              "      <td>Mac Desktop</td>\n",
              "    </tr>\n",
              "    <tr>\n",
              "      <th>275529</th>\n",
              "      <td>seo</td>\n",
              "      <td>google</td>\n",
              "      <td>-1.0</td>\n",
              "      <td>NaN</td>\n",
              "      <td>none</td>\n",
              "      <td>Mobile Safari</td>\n",
              "      <td>iPad</td>\n",
              "      <td>none</td>\n",
              "      <td>gpusl6ppgf</td>\n",
              "      <td>en</td>\n",
              "      <td>Web</td>\n",
              "      <td>0</td>\n",
              "      <td>basic</td>\n",
              "      <td>Tuesday</td>\n",
              "      <td>30</td>\n",
              "      <td>9</td>\n",
              "      <td>2014</td>\n",
              "      <td>Tuesday</td>\n",
              "      <td>30</td>\n",
              "      <td>9</td>\n",
              "      <td>2014</td>\n",
              "      <td>0 days</td>\n",
              "      <td>715253.0</td>\n",
              "      <td>iPad Tablet</td>\n",
              "    </tr>\n",
              "    <tr>\n",
              "      <th>275530</th>\n",
              "      <td>seo</td>\n",
              "      <td>google</td>\n",
              "      <td>44.0</td>\n",
              "      <td>NaN</td>\n",
              "      <td>linked</td>\n",
              "      <td>Chrome</td>\n",
              "      <td>Mac Desktop</td>\n",
              "      <td>MALE</td>\n",
              "      <td>gpijioh4eh</td>\n",
              "      <td>en</td>\n",
              "      <td>Web</td>\n",
              "      <td>0</td>\n",
              "      <td>basic</td>\n",
              "      <td>Tuesday</td>\n",
              "      <td>30</td>\n",
              "      <td>9</td>\n",
              "      <td>2014</td>\n",
              "      <td>Tuesday</td>\n",
              "      <td>30</td>\n",
              "      <td>9</td>\n",
              "      <td>2014</td>\n",
              "      <td>0 days</td>\n",
              "      <td>6288548.0</td>\n",
              "      <td>Mac Desktop</td>\n",
              "    </tr>\n",
              "    <tr>\n",
              "      <th>275531</th>\n",
              "      <td>seo</td>\n",
              "      <td>google</td>\n",
              "      <td>39.0</td>\n",
              "      <td>NaN</td>\n",
              "      <td>linked</td>\n",
              "      <td>Firefox</td>\n",
              "      <td>Windows Desktop</td>\n",
              "      <td>none</td>\n",
              "      <td>3ptlvdxss9</td>\n",
              "      <td>en</td>\n",
              "      <td>Web</td>\n",
              "      <td>0</td>\n",
              "      <td>basic</td>\n",
              "      <td>Tuesday</td>\n",
              "      <td>30</td>\n",
              "      <td>9</td>\n",
              "      <td>2014</td>\n",
              "      <td>Tuesday</td>\n",
              "      <td>30</td>\n",
              "      <td>9</td>\n",
              "      <td>2014</td>\n",
              "      <td>0 days</td>\n",
              "      <td>1052227.0</td>\n",
              "      <td>Windows Desktop</td>\n",
              "    </tr>\n",
              "    <tr>\n",
              "      <th>275532</th>\n",
              "      <td>direct</td>\n",
              "      <td>direct</td>\n",
              "      <td>34.0</td>\n",
              "      <td>NaN</td>\n",
              "      <td>none</td>\n",
              "      <td>none</td>\n",
              "      <td>Android Phone</td>\n",
              "      <td>FEMALE</td>\n",
              "      <td>f9a1ncjnrg</td>\n",
              "      <td>en</td>\n",
              "      <td>Android</td>\n",
              "      <td>23</td>\n",
              "      <td>facebook</td>\n",
              "      <td>Tuesday</td>\n",
              "      <td>30</td>\n",
              "      <td>9</td>\n",
              "      <td>2014</td>\n",
              "      <td>Tuesday</td>\n",
              "      <td>30</td>\n",
              "      <td>9</td>\n",
              "      <td>2014</td>\n",
              "      <td>0 days</td>\n",
              "      <td>980574.0</td>\n",
              "      <td>Android Phone</td>\n",
              "    </tr>\n",
              "    <tr>\n",
              "      <th>275533</th>\n",
              "      <td>seo</td>\n",
              "      <td>google</td>\n",
              "      <td>-1.0</td>\n",
              "      <td>NaN</td>\n",
              "      <td>none</td>\n",
              "      <td>Safari</td>\n",
              "      <td>Mac Desktop</td>\n",
              "      <td>none</td>\n",
              "      <td>kofaz2kh70</td>\n",
              "      <td>en</td>\n",
              "      <td>Web</td>\n",
              "      <td>0</td>\n",
              "      <td>basic</td>\n",
              "      <td>Tuesday</td>\n",
              "      <td>30</td>\n",
              "      <td>9</td>\n",
              "      <td>2014</td>\n",
              "      <td>Tuesday</td>\n",
              "      <td>30</td>\n",
              "      <td>9</td>\n",
              "      <td>2014</td>\n",
              "      <td>0 days</td>\n",
              "      <td>526862.0</td>\n",
              "      <td>Mac Desktop</td>\n",
              "    </tr>\n",
              "    <tr>\n",
              "      <th>275534</th>\n",
              "      <td>direct</td>\n",
              "      <td>direct</td>\n",
              "      <td>40.0</td>\n",
              "      <td>NaN</td>\n",
              "      <td>none</td>\n",
              "      <td>none</td>\n",
              "      <td>Android Phone</td>\n",
              "      <td>MALE</td>\n",
              "      <td>6xrmom7hjo</td>\n",
              "      <td>en</td>\n",
              "      <td>Android</td>\n",
              "      <td>23</td>\n",
              "      <td>facebook</td>\n",
              "      <td>Tuesday</td>\n",
              "      <td>30</td>\n",
              "      <td>9</td>\n",
              "      <td>2014</td>\n",
              "      <td>Tuesday</td>\n",
              "      <td>30</td>\n",
              "      <td>9</td>\n",
              "      <td>2014</td>\n",
              "      <td>0 days</td>\n",
              "      <td>86052.0</td>\n",
              "      <td>Android Phone</td>\n",
              "    </tr>\n",
              "    <tr>\n",
              "      <th>275535</th>\n",
              "      <td>direct</td>\n",
              "      <td>direct</td>\n",
              "      <td>27.0</td>\n",
              "      <td>NaN</td>\n",
              "      <td>none</td>\n",
              "      <td>Firefox</td>\n",
              "      <td>Mac Desktop</td>\n",
              "      <td>MALE</td>\n",
              "      <td>cg9wqgnad2</td>\n",
              "      <td>en</td>\n",
              "      <td>Web</td>\n",
              "      <td>0</td>\n",
              "      <td>facebook</td>\n",
              "      <td>Tuesday</td>\n",
              "      <td>30</td>\n",
              "      <td>9</td>\n",
              "      <td>2014</td>\n",
              "      <td>Tuesday</td>\n",
              "      <td>30</td>\n",
              "      <td>9</td>\n",
              "      <td>2014</td>\n",
              "      <td>0 days</td>\n",
              "      <td>882738.0</td>\n",
              "      <td>Mac Desktop</td>\n",
              "    </tr>\n",
              "    <tr>\n",
              "      <th>275536</th>\n",
              "      <td>direct</td>\n",
              "      <td>direct</td>\n",
              "      <td>24.0</td>\n",
              "      <td>NaN</td>\n",
              "      <td>linked</td>\n",
              "      <td>Mobile Safari</td>\n",
              "      <td>iPhone</td>\n",
              "      <td>FEMALE</td>\n",
              "      <td>jg618z94wo</td>\n",
              "      <td>en</td>\n",
              "      <td>Web</td>\n",
              "      <td>0</td>\n",
              "      <td>facebook</td>\n",
              "      <td>Tuesday</td>\n",
              "      <td>30</td>\n",
              "      <td>9</td>\n",
              "      <td>2014</td>\n",
              "      <td>Tuesday</td>\n",
              "      <td>30</td>\n",
              "      <td>9</td>\n",
              "      <td>2014</td>\n",
              "      <td>0 days</td>\n",
              "      <td>575391.0</td>\n",
              "      <td>iPhone</td>\n",
              "    </tr>\n",
              "    <tr>\n",
              "      <th>275537</th>\n",
              "      <td>direct</td>\n",
              "      <td>direct</td>\n",
              "      <td>-1.0</td>\n",
              "      <td>NaN</td>\n",
              "      <td>none</td>\n",
              "      <td>none</td>\n",
              "      <td>iPhone</td>\n",
              "      <td>none</td>\n",
              "      <td>u7lv3glv6y</td>\n",
              "      <td>en</td>\n",
              "      <td>iOS</td>\n",
              "      <td>25</td>\n",
              "      <td>basic</td>\n",
              "      <td>Tuesday</td>\n",
              "      <td>30</td>\n",
              "      <td>9</td>\n",
              "      <td>2014</td>\n",
              "      <td>Tuesday</td>\n",
              "      <td>30</td>\n",
              "      <td>9</td>\n",
              "      <td>2014</td>\n",
              "      <td>0 days</td>\n",
              "      <td>1167663.0</td>\n",
              "      <td>iPhone</td>\n",
              "    </tr>\n",
              "    <tr>\n",
              "      <th>275538</th>\n",
              "      <td>sem-brand</td>\n",
              "      <td>google</td>\n",
              "      <td>55.0</td>\n",
              "      <td>NaN</td>\n",
              "      <td>omg</td>\n",
              "      <td>Firefox</td>\n",
              "      <td>Windows Desktop</td>\n",
              "      <td>MALE</td>\n",
              "      <td>o6ofmozucx</td>\n",
              "      <td>en</td>\n",
              "      <td>Web</td>\n",
              "      <td>0</td>\n",
              "      <td>basic</td>\n",
              "      <td>Tuesday</td>\n",
              "      <td>30</td>\n",
              "      <td>9</td>\n",
              "      <td>2014</td>\n",
              "      <td>Tuesday</td>\n",
              "      <td>30</td>\n",
              "      <td>9</td>\n",
              "      <td>2014</td>\n",
              "      <td>0 days</td>\n",
              "      <td>634893.0</td>\n",
              "      <td>Windows Desktop</td>\n",
              "    </tr>\n",
              "    <tr>\n",
              "      <th>275539</th>\n",
              "      <td>direct</td>\n",
              "      <td>direct</td>\n",
              "      <td>34.0</td>\n",
              "      <td>NaN</td>\n",
              "      <td>none</td>\n",
              "      <td>Chrome</td>\n",
              "      <td>Mac Desktop</td>\n",
              "      <td>none</td>\n",
              "      <td>wcw7xggeqp</td>\n",
              "      <td>en</td>\n",
              "      <td>Web</td>\n",
              "      <td>0</td>\n",
              "      <td>basic</td>\n",
              "      <td>Tuesday</td>\n",
              "      <td>30</td>\n",
              "      <td>9</td>\n",
              "      <td>2014</td>\n",
              "      <td>Tuesday</td>\n",
              "      <td>30</td>\n",
              "      <td>9</td>\n",
              "      <td>2014</td>\n",
              "      <td>0 days</td>\n",
              "      <td>398555.0</td>\n",
              "      <td>Mac Desktop</td>\n",
              "    </tr>\n",
              "    <tr>\n",
              "      <th>275540</th>\n",
              "      <td>direct</td>\n",
              "      <td>direct</td>\n",
              "      <td>32.0</td>\n",
              "      <td>NaN</td>\n",
              "      <td>linked</td>\n",
              "      <td>Chrome</td>\n",
              "      <td>Windows Desktop</td>\n",
              "      <td>MALE</td>\n",
              "      <td>m22pw2pkxr</td>\n",
              "      <td>en</td>\n",
              "      <td>Web</td>\n",
              "      <td>0</td>\n",
              "      <td>basic</td>\n",
              "      <td>Tuesday</td>\n",
              "      <td>30</td>\n",
              "      <td>9</td>\n",
              "      <td>2014</td>\n",
              "      <td>Tuesday</td>\n",
              "      <td>30</td>\n",
              "      <td>9</td>\n",
              "      <td>2014</td>\n",
              "      <td>0 days</td>\n",
              "      <td>464202.0</td>\n",
              "      <td>Windows Desktop</td>\n",
              "    </tr>\n",
              "    <tr>\n",
              "      <th>275541</th>\n",
              "      <td>seo</td>\n",
              "      <td>yahoo</td>\n",
              "      <td>-1.0</td>\n",
              "      <td>NaN</td>\n",
              "      <td>linked</td>\n",
              "      <td>Chrome</td>\n",
              "      <td>Windows Desktop</td>\n",
              "      <td>none</td>\n",
              "      <td>8yvhec201j</td>\n",
              "      <td>en</td>\n",
              "      <td>Web</td>\n",
              "      <td>0</td>\n",
              "      <td>basic</td>\n",
              "      <td>Tuesday</td>\n",
              "      <td>30</td>\n",
              "      <td>9</td>\n",
              "      <td>2014</td>\n",
              "      <td>Tuesday</td>\n",
              "      <td>30</td>\n",
              "      <td>9</td>\n",
              "      <td>2014</td>\n",
              "      <td>0 days</td>\n",
              "      <td>572202.0</td>\n",
              "      <td>Windows Desktop</td>\n",
              "    </tr>\n",
              "    <tr>\n",
              "      <th>275542</th>\n",
              "      <td>direct</td>\n",
              "      <td>direct</td>\n",
              "      <td>31.0</td>\n",
              "      <td>NaN</td>\n",
              "      <td>none</td>\n",
              "      <td>IE</td>\n",
              "      <td>Windows Desktop</td>\n",
              "      <td>none</td>\n",
              "      <td>cv0na2lf5a</td>\n",
              "      <td>en</td>\n",
              "      <td>Web</td>\n",
              "      <td>0</td>\n",
              "      <td>basic</td>\n",
              "      <td>Tuesday</td>\n",
              "      <td>30</td>\n",
              "      <td>9</td>\n",
              "      <td>2014</td>\n",
              "      <td>Tuesday</td>\n",
              "      <td>30</td>\n",
              "      <td>9</td>\n",
              "      <td>2014</td>\n",
              "      <td>0 days</td>\n",
              "      <td>2534232.0</td>\n",
              "      <td>iPhone</td>\n",
              "    </tr>\n",
              "    <tr>\n",
              "      <th>275543</th>\n",
              "      <td>direct</td>\n",
              "      <td>direct</td>\n",
              "      <td>-1.0</td>\n",
              "      <td>NaN</td>\n",
              "      <td>none</td>\n",
              "      <td>none</td>\n",
              "      <td>Android Phone</td>\n",
              "      <td>none</td>\n",
              "      <td>zp8xfonng8</td>\n",
              "      <td>ko</td>\n",
              "      <td>Android</td>\n",
              "      <td>23</td>\n",
              "      <td>basic</td>\n",
              "      <td>Tuesday</td>\n",
              "      <td>30</td>\n",
              "      <td>9</td>\n",
              "      <td>2014</td>\n",
              "      <td>Tuesday</td>\n",
              "      <td>30</td>\n",
              "      <td>9</td>\n",
              "      <td>2014</td>\n",
              "      <td>0 days</td>\n",
              "      <td>51618.0</td>\n",
              "      <td>Android Phone</td>\n",
              "    </tr>\n",
              "    <tr>\n",
              "      <th>275544</th>\n",
              "      <td>direct</td>\n",
              "      <td>direct</td>\n",
              "      <td>-1.0</td>\n",
              "      <td>NaN</td>\n",
              "      <td>linked</td>\n",
              "      <td>Firefox</td>\n",
              "      <td>Windows Desktop</td>\n",
              "      <td>none</td>\n",
              "      <td>fa6260ziny</td>\n",
              "      <td>de</td>\n",
              "      <td>Web</td>\n",
              "      <td>0</td>\n",
              "      <td>basic</td>\n",
              "      <td>Tuesday</td>\n",
              "      <td>30</td>\n",
              "      <td>9</td>\n",
              "      <td>2014</td>\n",
              "      <td>Tuesday</td>\n",
              "      <td>30</td>\n",
              "      <td>9</td>\n",
              "      <td>2014</td>\n",
              "      <td>0 days</td>\n",
              "      <td>823297.0</td>\n",
              "      <td>Windows Desktop</td>\n",
              "    </tr>\n",
              "    <tr>\n",
              "      <th>275545</th>\n",
              "      <td>sem-brand</td>\n",
              "      <td>google</td>\n",
              "      <td>-1.0</td>\n",
              "      <td>NaN</td>\n",
              "      <td>omg</td>\n",
              "      <td>Safari</td>\n",
              "      <td>Mac Desktop</td>\n",
              "      <td>none</td>\n",
              "      <td>87k0fy4ugm</td>\n",
              "      <td>en</td>\n",
              "      <td>Web</td>\n",
              "      <td>0</td>\n",
              "      <td>basic</td>\n",
              "      <td>Tuesday</td>\n",
              "      <td>30</td>\n",
              "      <td>9</td>\n",
              "      <td>2014</td>\n",
              "      <td>Tuesday</td>\n",
              "      <td>30</td>\n",
              "      <td>9</td>\n",
              "      <td>2014</td>\n",
              "      <td>0 days</td>\n",
              "      <td>352068.0</td>\n",
              "      <td>iPhone</td>\n",
              "    </tr>\n",
              "    <tr>\n",
              "      <th>275546</th>\n",
              "      <td>other</td>\n",
              "      <td>other</td>\n",
              "      <td>49.0</td>\n",
              "      <td>NaN</td>\n",
              "      <td>tracked-other</td>\n",
              "      <td>Chrome</td>\n",
              "      <td>Windows Desktop</td>\n",
              "      <td>FEMALE</td>\n",
              "      <td>9uqfg8txu3</td>\n",
              "      <td>en</td>\n",
              "      <td>Web</td>\n",
              "      <td>0</td>\n",
              "      <td>basic</td>\n",
              "      <td>Tuesday</td>\n",
              "      <td>30</td>\n",
              "      <td>9</td>\n",
              "      <td>2014</td>\n",
              "      <td>Tuesday</td>\n",
              "      <td>30</td>\n",
              "      <td>9</td>\n",
              "      <td>2014</td>\n",
              "      <td>0 days</td>\n",
              "      <td>2804544.0</td>\n",
              "      <td>Windows Desktop</td>\n",
              "    </tr>\n",
              "  </tbody>\n",
              "</table>\n",
              "</div>"
            ],
            "text/plain": [
              "       affiliate_channel affiliate_provider  ...    sumTime most_used_device\n",
              "275527               seo           facebook  ...   277706.0           iPhone\n",
              "275528               seo             google  ...   938847.0      Mac Desktop\n",
              "275529               seo             google  ...   715253.0      iPad Tablet\n",
              "275530               seo             google  ...  6288548.0      Mac Desktop\n",
              "275531               seo             google  ...  1052227.0  Windows Desktop\n",
              "275532            direct             direct  ...   980574.0    Android Phone\n",
              "275533               seo             google  ...   526862.0      Mac Desktop\n",
              "275534            direct             direct  ...    86052.0    Android Phone\n",
              "275535            direct             direct  ...   882738.0      Mac Desktop\n",
              "275536            direct             direct  ...   575391.0           iPhone\n",
              "275537            direct             direct  ...  1167663.0           iPhone\n",
              "275538         sem-brand             google  ...   634893.0  Windows Desktop\n",
              "275539            direct             direct  ...   398555.0      Mac Desktop\n",
              "275540            direct             direct  ...   464202.0  Windows Desktop\n",
              "275541               seo              yahoo  ...   572202.0  Windows Desktop\n",
              "275542            direct             direct  ...  2534232.0           iPhone\n",
              "275543            direct             direct  ...    51618.0    Android Phone\n",
              "275544            direct             direct  ...   823297.0  Windows Desktop\n",
              "275545         sem-brand             google  ...   352068.0           iPhone\n",
              "275546             other              other  ...  2804544.0  Windows Desktop\n",
              "\n",
              "[20 rows x 24 columns]"
            ]
          },
          "metadata": {
            "tags": []
          },
          "execution_count": 43
        }
      ]
    },
    {
      "cell_type": "code",
      "metadata": {
        "id": "6c_NW5eUen9w",
        "colab_type": "code",
        "colab": {
          "base_uri": "https://localhost:8080/",
          "height": 253
        },
        "outputId": "9bdcb4c5-2313-4471-8a4b-6159e3358250"
      },
      "source": [
        "categorical_features = ['gender', 'signup_method', 'signup_flow', 'language','affiliate_channel', 'affiliate_provider', 'first_affiliate_tracked', 'signup_app', 'first_device_type', 'first_browser', 'most_used_device', 'weekday_account_created', 'weekday_first_active','time_lag'\n",
        ",'year_first_active','month_first_active','day_first_active','year_account_created','month_account_created','day_account_created']\n",
        "df = pd.get_dummies(DataSet, columns=categorical_features)\n",
        "df.tail()"
      ],
      "execution_count": 45,
      "outputs": [
        {
          "output_type": "execute_result",
          "data": {
            "text/html": [
              "<div>\n",
              "<style scoped>\n",
              "    .dataframe tbody tr th:only-of-type {\n",
              "        vertical-align: middle;\n",
              "    }\n",
              "\n",
              "    .dataframe tbody tr th {\n",
              "        vertical-align: top;\n",
              "    }\n",
              "\n",
              "    .dataframe thead th {\n",
              "        text-align: right;\n",
              "    }\n",
              "</style>\n",
              "<table border=\"1\" class=\"dataframe\">\n",
              "  <thead>\n",
              "    <tr style=\"text-align: right;\">\n",
              "      <th></th>\n",
              "      <th>age</th>\n",
              "      <th>country_destination</th>\n",
              "      <th>id</th>\n",
              "      <th>sumTime</th>\n",
              "      <th>gender_FEMALE</th>\n",
              "      <th>gender_MALE</th>\n",
              "      <th>gender_OTHER</th>\n",
              "      <th>gender_none</th>\n",
              "      <th>signup_method_basic</th>\n",
              "      <th>signup_method_facebook</th>\n",
              "      <th>signup_method_google</th>\n",
              "      <th>signup_method_weibo</th>\n",
              "      <th>signup_flow_0</th>\n",
              "      <th>signup_flow_1</th>\n",
              "      <th>signup_flow_2</th>\n",
              "      <th>signup_flow_3</th>\n",
              "      <th>signup_flow_4</th>\n",
              "      <th>signup_flow_5</th>\n",
              "      <th>signup_flow_6</th>\n",
              "      <th>signup_flow_8</th>\n",
              "      <th>signup_flow_10</th>\n",
              "      <th>signup_flow_12</th>\n",
              "      <th>signup_flow_14</th>\n",
              "      <th>signup_flow_15</th>\n",
              "      <th>signup_flow_16</th>\n",
              "      <th>signup_flow_20</th>\n",
              "      <th>signup_flow_21</th>\n",
              "      <th>signup_flow_23</th>\n",
              "      <th>signup_flow_24</th>\n",
              "      <th>signup_flow_25</th>\n",
              "      <th>language_ca</th>\n",
              "      <th>language_cs</th>\n",
              "      <th>language_da</th>\n",
              "      <th>language_de</th>\n",
              "      <th>language_el</th>\n",
              "      <th>language_en</th>\n",
              "      <th>language_es</th>\n",
              "      <th>language_fi</th>\n",
              "      <th>language_fr</th>\n",
              "      <th>language_hr</th>\n",
              "      <th>...</th>\n",
              "      <th>month_account_created_4</th>\n",
              "      <th>month_account_created_5</th>\n",
              "      <th>month_account_created_6</th>\n",
              "      <th>month_account_created_7</th>\n",
              "      <th>month_account_created_8</th>\n",
              "      <th>month_account_created_9</th>\n",
              "      <th>month_account_created_10</th>\n",
              "      <th>month_account_created_11</th>\n",
              "      <th>month_account_created_12</th>\n",
              "      <th>day_account_created_1</th>\n",
              "      <th>day_account_created_2</th>\n",
              "      <th>day_account_created_3</th>\n",
              "      <th>day_account_created_4</th>\n",
              "      <th>day_account_created_5</th>\n",
              "      <th>day_account_created_6</th>\n",
              "      <th>day_account_created_7</th>\n",
              "      <th>day_account_created_8</th>\n",
              "      <th>day_account_created_9</th>\n",
              "      <th>day_account_created_10</th>\n",
              "      <th>day_account_created_11</th>\n",
              "      <th>day_account_created_12</th>\n",
              "      <th>day_account_created_13</th>\n",
              "      <th>day_account_created_14</th>\n",
              "      <th>day_account_created_15</th>\n",
              "      <th>day_account_created_16</th>\n",
              "      <th>day_account_created_17</th>\n",
              "      <th>day_account_created_18</th>\n",
              "      <th>day_account_created_19</th>\n",
              "      <th>day_account_created_20</th>\n",
              "      <th>day_account_created_21</th>\n",
              "      <th>day_account_created_22</th>\n",
              "      <th>day_account_created_23</th>\n",
              "      <th>day_account_created_24</th>\n",
              "      <th>day_account_created_25</th>\n",
              "      <th>day_account_created_26</th>\n",
              "      <th>day_account_created_27</th>\n",
              "      <th>day_account_created_28</th>\n",
              "      <th>day_account_created_29</th>\n",
              "      <th>day_account_created_30</th>\n",
              "      <th>day_account_created_31</th>\n",
              "    </tr>\n",
              "  </thead>\n",
              "  <tbody>\n",
              "    <tr>\n",
              "      <th>275542</th>\n",
              "      <td>31.0</td>\n",
              "      <td>NaN</td>\n",
              "      <td>cv0na2lf5a</td>\n",
              "      <td>2534232.0</td>\n",
              "      <td>0</td>\n",
              "      <td>0</td>\n",
              "      <td>0</td>\n",
              "      <td>1</td>\n",
              "      <td>1</td>\n",
              "      <td>0</td>\n",
              "      <td>0</td>\n",
              "      <td>0</td>\n",
              "      <td>1</td>\n",
              "      <td>0</td>\n",
              "      <td>0</td>\n",
              "      <td>0</td>\n",
              "      <td>0</td>\n",
              "      <td>0</td>\n",
              "      <td>0</td>\n",
              "      <td>0</td>\n",
              "      <td>0</td>\n",
              "      <td>0</td>\n",
              "      <td>0</td>\n",
              "      <td>0</td>\n",
              "      <td>0</td>\n",
              "      <td>0</td>\n",
              "      <td>0</td>\n",
              "      <td>0</td>\n",
              "      <td>0</td>\n",
              "      <td>0</td>\n",
              "      <td>0</td>\n",
              "      <td>0</td>\n",
              "      <td>0</td>\n",
              "      <td>0</td>\n",
              "      <td>0</td>\n",
              "      <td>1</td>\n",
              "      <td>0</td>\n",
              "      <td>0</td>\n",
              "      <td>0</td>\n",
              "      <td>0</td>\n",
              "      <td>...</td>\n",
              "      <td>0</td>\n",
              "      <td>0</td>\n",
              "      <td>0</td>\n",
              "      <td>0</td>\n",
              "      <td>0</td>\n",
              "      <td>1</td>\n",
              "      <td>0</td>\n",
              "      <td>0</td>\n",
              "      <td>0</td>\n",
              "      <td>0</td>\n",
              "      <td>0</td>\n",
              "      <td>0</td>\n",
              "      <td>0</td>\n",
              "      <td>0</td>\n",
              "      <td>0</td>\n",
              "      <td>0</td>\n",
              "      <td>0</td>\n",
              "      <td>0</td>\n",
              "      <td>0</td>\n",
              "      <td>0</td>\n",
              "      <td>0</td>\n",
              "      <td>0</td>\n",
              "      <td>0</td>\n",
              "      <td>0</td>\n",
              "      <td>0</td>\n",
              "      <td>0</td>\n",
              "      <td>0</td>\n",
              "      <td>0</td>\n",
              "      <td>0</td>\n",
              "      <td>0</td>\n",
              "      <td>0</td>\n",
              "      <td>0</td>\n",
              "      <td>0</td>\n",
              "      <td>0</td>\n",
              "      <td>0</td>\n",
              "      <td>0</td>\n",
              "      <td>0</td>\n",
              "      <td>0</td>\n",
              "      <td>1</td>\n",
              "      <td>0</td>\n",
              "    </tr>\n",
              "    <tr>\n",
              "      <th>275543</th>\n",
              "      <td>-1.0</td>\n",
              "      <td>NaN</td>\n",
              "      <td>zp8xfonng8</td>\n",
              "      <td>51618.0</td>\n",
              "      <td>0</td>\n",
              "      <td>0</td>\n",
              "      <td>0</td>\n",
              "      <td>1</td>\n",
              "      <td>1</td>\n",
              "      <td>0</td>\n",
              "      <td>0</td>\n",
              "      <td>0</td>\n",
              "      <td>0</td>\n",
              "      <td>0</td>\n",
              "      <td>0</td>\n",
              "      <td>0</td>\n",
              "      <td>0</td>\n",
              "      <td>0</td>\n",
              "      <td>0</td>\n",
              "      <td>0</td>\n",
              "      <td>0</td>\n",
              "      <td>0</td>\n",
              "      <td>0</td>\n",
              "      <td>0</td>\n",
              "      <td>0</td>\n",
              "      <td>0</td>\n",
              "      <td>0</td>\n",
              "      <td>1</td>\n",
              "      <td>0</td>\n",
              "      <td>0</td>\n",
              "      <td>0</td>\n",
              "      <td>0</td>\n",
              "      <td>0</td>\n",
              "      <td>0</td>\n",
              "      <td>0</td>\n",
              "      <td>0</td>\n",
              "      <td>0</td>\n",
              "      <td>0</td>\n",
              "      <td>0</td>\n",
              "      <td>0</td>\n",
              "      <td>...</td>\n",
              "      <td>0</td>\n",
              "      <td>0</td>\n",
              "      <td>0</td>\n",
              "      <td>0</td>\n",
              "      <td>0</td>\n",
              "      <td>1</td>\n",
              "      <td>0</td>\n",
              "      <td>0</td>\n",
              "      <td>0</td>\n",
              "      <td>0</td>\n",
              "      <td>0</td>\n",
              "      <td>0</td>\n",
              "      <td>0</td>\n",
              "      <td>0</td>\n",
              "      <td>0</td>\n",
              "      <td>0</td>\n",
              "      <td>0</td>\n",
              "      <td>0</td>\n",
              "      <td>0</td>\n",
              "      <td>0</td>\n",
              "      <td>0</td>\n",
              "      <td>0</td>\n",
              "      <td>0</td>\n",
              "      <td>0</td>\n",
              "      <td>0</td>\n",
              "      <td>0</td>\n",
              "      <td>0</td>\n",
              "      <td>0</td>\n",
              "      <td>0</td>\n",
              "      <td>0</td>\n",
              "      <td>0</td>\n",
              "      <td>0</td>\n",
              "      <td>0</td>\n",
              "      <td>0</td>\n",
              "      <td>0</td>\n",
              "      <td>0</td>\n",
              "      <td>0</td>\n",
              "      <td>0</td>\n",
              "      <td>1</td>\n",
              "      <td>0</td>\n",
              "    </tr>\n",
              "    <tr>\n",
              "      <th>275544</th>\n",
              "      <td>-1.0</td>\n",
              "      <td>NaN</td>\n",
              "      <td>fa6260ziny</td>\n",
              "      <td>823297.0</td>\n",
              "      <td>0</td>\n",
              "      <td>0</td>\n",
              "      <td>0</td>\n",
              "      <td>1</td>\n",
              "      <td>1</td>\n",
              "      <td>0</td>\n",
              "      <td>0</td>\n",
              "      <td>0</td>\n",
              "      <td>1</td>\n",
              "      <td>0</td>\n",
              "      <td>0</td>\n",
              "      <td>0</td>\n",
              "      <td>0</td>\n",
              "      <td>0</td>\n",
              "      <td>0</td>\n",
              "      <td>0</td>\n",
              "      <td>0</td>\n",
              "      <td>0</td>\n",
              "      <td>0</td>\n",
              "      <td>0</td>\n",
              "      <td>0</td>\n",
              "      <td>0</td>\n",
              "      <td>0</td>\n",
              "      <td>0</td>\n",
              "      <td>0</td>\n",
              "      <td>0</td>\n",
              "      <td>0</td>\n",
              "      <td>0</td>\n",
              "      <td>0</td>\n",
              "      <td>1</td>\n",
              "      <td>0</td>\n",
              "      <td>0</td>\n",
              "      <td>0</td>\n",
              "      <td>0</td>\n",
              "      <td>0</td>\n",
              "      <td>0</td>\n",
              "      <td>...</td>\n",
              "      <td>0</td>\n",
              "      <td>0</td>\n",
              "      <td>0</td>\n",
              "      <td>0</td>\n",
              "      <td>0</td>\n",
              "      <td>1</td>\n",
              "      <td>0</td>\n",
              "      <td>0</td>\n",
              "      <td>0</td>\n",
              "      <td>0</td>\n",
              "      <td>0</td>\n",
              "      <td>0</td>\n",
              "      <td>0</td>\n",
              "      <td>0</td>\n",
              "      <td>0</td>\n",
              "      <td>0</td>\n",
              "      <td>0</td>\n",
              "      <td>0</td>\n",
              "      <td>0</td>\n",
              "      <td>0</td>\n",
              "      <td>0</td>\n",
              "      <td>0</td>\n",
              "      <td>0</td>\n",
              "      <td>0</td>\n",
              "      <td>0</td>\n",
              "      <td>0</td>\n",
              "      <td>0</td>\n",
              "      <td>0</td>\n",
              "      <td>0</td>\n",
              "      <td>0</td>\n",
              "      <td>0</td>\n",
              "      <td>0</td>\n",
              "      <td>0</td>\n",
              "      <td>0</td>\n",
              "      <td>0</td>\n",
              "      <td>0</td>\n",
              "      <td>0</td>\n",
              "      <td>0</td>\n",
              "      <td>1</td>\n",
              "      <td>0</td>\n",
              "    </tr>\n",
              "    <tr>\n",
              "      <th>275545</th>\n",
              "      <td>-1.0</td>\n",
              "      <td>NaN</td>\n",
              "      <td>87k0fy4ugm</td>\n",
              "      <td>352068.0</td>\n",
              "      <td>0</td>\n",
              "      <td>0</td>\n",
              "      <td>0</td>\n",
              "      <td>1</td>\n",
              "      <td>1</td>\n",
              "      <td>0</td>\n",
              "      <td>0</td>\n",
              "      <td>0</td>\n",
              "      <td>1</td>\n",
              "      <td>0</td>\n",
              "      <td>0</td>\n",
              "      <td>0</td>\n",
              "      <td>0</td>\n",
              "      <td>0</td>\n",
              "      <td>0</td>\n",
              "      <td>0</td>\n",
              "      <td>0</td>\n",
              "      <td>0</td>\n",
              "      <td>0</td>\n",
              "      <td>0</td>\n",
              "      <td>0</td>\n",
              "      <td>0</td>\n",
              "      <td>0</td>\n",
              "      <td>0</td>\n",
              "      <td>0</td>\n",
              "      <td>0</td>\n",
              "      <td>0</td>\n",
              "      <td>0</td>\n",
              "      <td>0</td>\n",
              "      <td>0</td>\n",
              "      <td>0</td>\n",
              "      <td>1</td>\n",
              "      <td>0</td>\n",
              "      <td>0</td>\n",
              "      <td>0</td>\n",
              "      <td>0</td>\n",
              "      <td>...</td>\n",
              "      <td>0</td>\n",
              "      <td>0</td>\n",
              "      <td>0</td>\n",
              "      <td>0</td>\n",
              "      <td>0</td>\n",
              "      <td>1</td>\n",
              "      <td>0</td>\n",
              "      <td>0</td>\n",
              "      <td>0</td>\n",
              "      <td>0</td>\n",
              "      <td>0</td>\n",
              "      <td>0</td>\n",
              "      <td>0</td>\n",
              "      <td>0</td>\n",
              "      <td>0</td>\n",
              "      <td>0</td>\n",
              "      <td>0</td>\n",
              "      <td>0</td>\n",
              "      <td>0</td>\n",
              "      <td>0</td>\n",
              "      <td>0</td>\n",
              "      <td>0</td>\n",
              "      <td>0</td>\n",
              "      <td>0</td>\n",
              "      <td>0</td>\n",
              "      <td>0</td>\n",
              "      <td>0</td>\n",
              "      <td>0</td>\n",
              "      <td>0</td>\n",
              "      <td>0</td>\n",
              "      <td>0</td>\n",
              "      <td>0</td>\n",
              "      <td>0</td>\n",
              "      <td>0</td>\n",
              "      <td>0</td>\n",
              "      <td>0</td>\n",
              "      <td>0</td>\n",
              "      <td>0</td>\n",
              "      <td>1</td>\n",
              "      <td>0</td>\n",
              "    </tr>\n",
              "    <tr>\n",
              "      <th>275546</th>\n",
              "      <td>49.0</td>\n",
              "      <td>NaN</td>\n",
              "      <td>9uqfg8txu3</td>\n",
              "      <td>2804544.0</td>\n",
              "      <td>1</td>\n",
              "      <td>0</td>\n",
              "      <td>0</td>\n",
              "      <td>0</td>\n",
              "      <td>1</td>\n",
              "      <td>0</td>\n",
              "      <td>0</td>\n",
              "      <td>0</td>\n",
              "      <td>1</td>\n",
              "      <td>0</td>\n",
              "      <td>0</td>\n",
              "      <td>0</td>\n",
              "      <td>0</td>\n",
              "      <td>0</td>\n",
              "      <td>0</td>\n",
              "      <td>0</td>\n",
              "      <td>0</td>\n",
              "      <td>0</td>\n",
              "      <td>0</td>\n",
              "      <td>0</td>\n",
              "      <td>0</td>\n",
              "      <td>0</td>\n",
              "      <td>0</td>\n",
              "      <td>0</td>\n",
              "      <td>0</td>\n",
              "      <td>0</td>\n",
              "      <td>0</td>\n",
              "      <td>0</td>\n",
              "      <td>0</td>\n",
              "      <td>0</td>\n",
              "      <td>0</td>\n",
              "      <td>1</td>\n",
              "      <td>0</td>\n",
              "      <td>0</td>\n",
              "      <td>0</td>\n",
              "      <td>0</td>\n",
              "      <td>...</td>\n",
              "      <td>0</td>\n",
              "      <td>0</td>\n",
              "      <td>0</td>\n",
              "      <td>0</td>\n",
              "      <td>0</td>\n",
              "      <td>1</td>\n",
              "      <td>0</td>\n",
              "      <td>0</td>\n",
              "      <td>0</td>\n",
              "      <td>0</td>\n",
              "      <td>0</td>\n",
              "      <td>0</td>\n",
              "      <td>0</td>\n",
              "      <td>0</td>\n",
              "      <td>0</td>\n",
              "      <td>0</td>\n",
              "      <td>0</td>\n",
              "      <td>0</td>\n",
              "      <td>0</td>\n",
              "      <td>0</td>\n",
              "      <td>0</td>\n",
              "      <td>0</td>\n",
              "      <td>0</td>\n",
              "      <td>0</td>\n",
              "      <td>0</td>\n",
              "      <td>0</td>\n",
              "      <td>0</td>\n",
              "      <td>0</td>\n",
              "      <td>0</td>\n",
              "      <td>0</td>\n",
              "      <td>0</td>\n",
              "      <td>0</td>\n",
              "      <td>0</td>\n",
              "      <td>0</td>\n",
              "      <td>0</td>\n",
              "      <td>0</td>\n",
              "      <td>0</td>\n",
              "      <td>0</td>\n",
              "      <td>1</td>\n",
              "      <td>0</td>\n",
              "    </tr>\n",
              "  </tbody>\n",
              "</table>\n",
              "<p>5 rows × 425 columns</p>\n",
              "</div>"
            ],
            "text/plain": [
              "         age  ... day_account_created_31\n",
              "275542  31.0  ...                      0\n",
              "275543  -1.0  ...                      0\n",
              "275544  -1.0  ...                      0\n",
              "275545  -1.0  ...                      0\n",
              "275546  49.0  ...                      0\n",
              "\n",
              "[5 rows x 425 columns]"
            ]
          },
          "metadata": {
            "tags": []
          },
          "execution_count": 45
        }
      ]
    },
    {
      "cell_type": "markdown",
      "metadata": {
        "id": "lQcahhZRhKtm",
        "colab_type": "text"
      },
      "source": [
        "Split train and test"
      ]
    },
    {
      "cell_type": "code",
      "metadata": {
        "id": "QgsQe_bXg7uN",
        "colab_type": "code",
        "colab": {}
      },
      "source": [
        "\n",
        "df.set_index('id', inplace=True)\n",
        "train_df = df.loc[trainUsers['id']]\n",
        "train_df.reset_index(inplace=True)\n",
        "train_df.fillna(-1, inplace=True)"
      ],
      "execution_count": 0,
      "outputs": []
    },
    {
      "cell_type": "code",
      "metadata": {
        "id": "rX9yVgRZjjrf",
        "colab_type": "code",
        "colab": {
          "base_uri": "https://localhost:8080/",
          "height": 34
        },
        "outputId": "5470007a-d7e9-4dbe-d968-d926e0c629a5"
      },
      "source": [
        "#Creating target variable for the train dataset\n",
        "y_train = train_df['country_destination']\n",
        "train_df.drop(['country_destination', 'id'], axis=1, inplace=True)\n",
        "from sklearn.preprocessing import LabelEncoder\n",
        "label_encoder = LabelEncoder()\n",
        "encoded_y_train = label_encoder.fit_transform(y_train) #Transforming the target variable using labels\n",
        "#We see that the destination countries have been successfully encoded now\n",
        "encoded_y_train"
      ],
      "execution_count": 47,
      "outputs": [
        {
          "output_type": "execute_result",
          "data": {
            "text/plain": [
              "array([ 7,  7, 10, ...,  7,  7,  7])"
            ]
          },
          "metadata": {
            "tags": []
          },
          "execution_count": 47
        }
      ]
    },
    {
      "cell_type": "code",
      "metadata": {
        "id": "aoUV3Fmho8nq",
        "colab_type": "code",
        "colab": {}
      },
      "source": [
        "#Create test\n",
        "#Creating test set\n",
        "test_df = df.loc[testUsers['id']].drop('country_destination', axis=1)\n",
        "test_df.reset_index(inplace=True)\n",
        "id_test = test_df['id']\n",
        "test_df.drop('id', axis=1, inplace=True)"
      ],
      "execution_count": 0,
      "outputs": []
    },
    {
      "cell_type": "code",
      "metadata": {
        "id": "7V4lpBdXlk4V",
        "colab_type": "code",
        "colab": {
          "base_uri": "https://localhost:8080/",
          "height": 34
        },
        "outputId": "fb2041db-e0ab-4718-9aa0-37cdd5630ff6"
      },
      "source": [
        "#remove Duplicates if exist\n",
        "test_df.columns[test_df.columns.duplicated()]\n"
      ],
      "execution_count": 49,
      "outputs": [
        {
          "output_type": "execute_result",
          "data": {
            "text/plain": [
              "Index([], dtype='object')"
            ]
          },
          "metadata": {
            "tags": []
          },
          "execution_count": 49
        }
      ]
    },
    {
      "cell_type": "markdown",
      "metadata": {
        "id": "LCQS9kAHl1FI",
        "colab_type": "text"
      },
      "source": [
        "Model and prediction"
      ]
    },
    {
      "cell_type": "code",
      "metadata": {
        "id": "wnmTZsywl0Ti",
        "colab_type": "code",
        "colab": {
          "base_uri": "https://localhost:8080/",
          "height": 34
        },
        "outputId": "ce61e9a5-f911-49da-d671-d72bc75f8ab3"
      },
      "source": [
        "import xgboost as xgb\n",
        "xboostTrain = xgb.DMatrix(train_df, label=encoded_y_train)\n",
        "#Specifying the hyperparameters\n",
        "params = {'max_depth': 20,\n",
        "    'learning_rate': 0.9,\n",
        "    'n_estimators': 4,\n",
        "    'objective': 'multi:softprob',\n",
        "    'num_class': 12,\n",
        "    'gamma': 0,\n",
        "    'min_child_weight': 1,\n",
        "    'max_delta_step': 0,\n",
        "    'subsample': 1,\n",
        "    'colsample_bytree': 1,\n",
        "    'colsample_bylevel': 1,\n",
        "    'reg_alpha': 0,\n",
        "    'reg_lambda': 1,\n",
        "    'scale_pos_weight': 1,\n",
        "    'base_score': 0.5,\n",
        "    'missing': None,\n",
        "    'nthread': 4,\n",
        "    'seed': 42\n",
        "          }\n",
        "num_boost_round = 5\n",
        "print(\"Train a XGBoost model\")\n",
        "gbm = xgb.train(params, xboostTrain, num_boost_round)"
      ],
      "execution_count": 50,
      "outputs": [
        {
          "output_type": "stream",
          "text": [
            "Train a XGBoost model\n"
          ],
          "name": "stdout"
        }
      ]
    },
    {
      "cell_type": "code",
      "metadata": {
        "id": "fceYA9sFpgVr",
        "colab_type": "code",
        "colab": {}
      },
      "source": [
        "y_pred = gbm.predict(xgb.DMatrix(test_df))\n",
        "ids = []  #list of ids\n",
        "cts = []  #list of countries\n",
        "for i in range(len(id_test)):\n",
        "    idx = id_test[i]\n",
        "    ids += [idx] * 3\n",
        "    cts += label_encoder.inverse_transform(np.argsort(y_pred[i])[::-1])[:5].tolist()\n",
        "predict = pd.DataFrame(np.column_stack((ids, cts)), columns=['id', 'country'])"
      ],
      "execution_count": 0,
      "outputs": []
    },
    {
      "cell_type": "code",
      "metadata": {
        "id": "sR88uTkfpwVf",
        "colab_type": "code",
        "colab": {}
      },
      "source": [
        "predict.to_csv('prediction.csv',index=False)\n"
      ],
      "execution_count": 0,
      "outputs": []
    }
  ]
}